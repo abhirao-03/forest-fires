{
 "cells": [
  {
   "cell_type": "code",
   "execution_count": 1,
   "id": "d2725534-1994-46f5-9203-a2b298ef57cb",
   "metadata": {},
   "outputs": [],
   "source": [
    "import numpy as np\n",
    "import matplotlib.pyplot as plt\n",
    "import random\n",
    "import PIL.Image\n",
    "from matplotlib.animation import ArtistAnimation"
   ]
  },
  {
   "cell_type": "code",
   "execution_count": 2,
   "id": "6b7ab8e7",
   "metadata": {},
   "outputs": [],
   "source": [
    "grid = np.load('processed.npy')\n",
    "grid = grid[0:100,0:100]"
   ]
  },
  {
   "cell_type": "code",
   "execution_count": 3,
   "id": "8f87ff73",
   "metadata": {},
   "outputs": [],
   "source": [
    "def start_fire(m,n,p=0.001,burning_time=10): #width,height,prob\n",
    "    M = np.zeros([m,n])\n",
    "    count_down = np.zeros([m,n])\n",
    "    M_p = np.random.rand(m,n)\n",
    "    M[M_p>(1-p)] = 3\n",
    "    count_down[M_p>(1-p)] = burning_time\n",
    "    return M,count_down"
   ]
  },
  {
   "cell_type": "code",
   "execution_count": 4,
   "id": "2253c3fe",
   "metadata": {},
   "outputs": [],
   "source": [
    "def start_fire_grid(grid,p=0.0001,burning_time=10):\n",
    "    m = np.size(grid,0)\n",
    "    n = np.size(grid,1)\n",
    "    M = np.zeros([m,n])\n",
    "    count_down = np.zeros([m,n])\n",
    "    M_p = np.random.rand(m,n)\n",
    "    M[M_p>(1-p)] = 3\n",
    "    M[grid>0] = -1 #inflammable\n",
    "    count_down[M==3] = burning_time\n",
    "    return M,count_down"
   ]
  },
  {
   "cell_type": "code",
   "execution_count": 5,
   "id": "0b0eb1c3",
   "metadata": {},
   "outputs": [],
   "source": [
    "def burning_prob(wind_dir): #[0,1] from south [1,0] from east\n",
    "    \n",
    "    prob = np.zeros(6)\n",
    "    distance = np.zeros(6)\n",
    "    if wind_dir[0]!=0:\n",
    "        theta = np.arctan(wind_dir[1]/wind_dir[0])\n",
    "    else:\n",
    "        if(wind_dir[1]>0):\n",
    "            theta = np.pi/2\n",
    "        else:\n",
    "            theta = -np.pi/2\n",
    "    theta = np.pi - theta\n",
    "\n",
    "    distance[0] = abs(theta-2/3*np.pi)\n",
    "    distance[1] = abs(theta-1/3*np.pi)\n",
    "    distance[2] = abs(theta)\n",
    "    distance[3] = abs(theta-5/3*np.pi)\n",
    "    distance[4] = abs(theta-4/3*np.pi)\n",
    "    distance[5] = abs(theta-np.pi)\n",
    "\n",
    "    for i in range(6):\n",
    "        if distance[i]>np.pi:\n",
    "            distance[i] = 2*np.pi - distance[i]\n",
    "        prob[i] = random.uniform(1-distance[i]/np.pi,1)\n",
    "        #prob[i] = random.uniform(1-np.sin(distance[i]/2),1)\n",
    "    \n",
    "    return prob\n",
    "      \n",
    "    '''\n",
    "    prob = np.zeros(4)\n",
    "    beta = 2\n",
    "\n",
    "    p_x = 0.8*(1-np.exp(-beta*abs(wind_dir[0])))\n",
    "    p_y = 0.8*(1-np.exp(-beta*abs(wind_dir[1])))\n",
    "    prob[0] = random.uniform(0.5-np.sign(wind_dir[0])*p_x, 1) #x-\n",
    "    prob[2] = random.uniform(0.5+np.sign(wind_dir[0])*p_x, 1) #x+\n",
    "    prob[1] = random.uniform(0.5-np.sign(wind_dir[1])*p_y,1) #y-\n",
    "    prob[3] = random.uniform(0.5+np.sign(wind_dir[1])*p_y,1) #y+\n",
    "    return prob\n",
    "    '''"
   ]
  },
  {
   "cell_type": "code",
   "execution_count": 6,
   "id": "7a6d4c4f-f577-4d08-86f8-547734b6fc07",
   "metadata": {},
   "outputs": [],
   "source": [
    "def if_burning_around(M,i,j,wind_dir): #simplest\n",
    "    tmp = 0\n",
    "    m = np.size(M,0) #size\n",
    "    n = np.size(M,1)\n",
    "    prob = burning_prob(wind_dir)\n",
    "    tol = 0.7\n",
    "\n",
    "    if i%2==0 :\n",
    "        if i!=0 and M[i-1,j] == 3 and prob[0]>tol: #1\n",
    "            tmp = 1\n",
    "        elif i!=0 and j!=n-1 and M[i-1,j+1] == 3 and prob[1]>tol: #2\n",
    "            tmp = 1\n",
    "        elif j!=0 and M[i,j-1] == 3 and prob[5]>tol: #6\n",
    "            tmp = 1\n",
    "        elif j!=n-1 and M[i,j+1] == 3 and prob[2]>tol: #3\n",
    "            tmp = 1  \n",
    "        elif i!=m-1 and M[i+1,j] == 3 and prob[4]>tol: #5\n",
    "            tmp = 1\n",
    "        elif i!=m-1 and j!=n-1 and M[i+1,j+1] == 3 and prob[3]>tol: #4\n",
    "            tmp = 1\n",
    "    else:\n",
    "        if i!=0 and j!=0 and M[i-1,j-1] == 3 and prob[0]>tol: #1\n",
    "            tmp = 1\n",
    "        elif i!=0 and M[i-1,j] == 3 and prob[1]>tol: #2\n",
    "            tmp = 1\n",
    "        elif j!=0 and M[i,j-1] == 3 and prob[5]>tol: #6\n",
    "            tmp = 1\n",
    "        elif j!=n-1 and M[i,j+1] == 3 and prob[2]>tol: #3\n",
    "            tmp = 1\n",
    "        elif i!=m-1 and j!=0 and M[i+1,j-1] == 3 and prob[4]>tol: #5\n",
    "            tmp = 1\n",
    "        elif i!=m-1 and M[i+1,j] == 3 and prob[3]>tol: #4\n",
    "            tmp = 1\n",
    "\n",
    "    if tmp==1 : return True\n",
    "    else: return False"
   ]
  },
  {
   "cell_type": "code",
   "execution_count": 7,
   "id": "100d4b7a-1c74-4779-bd82-da881549d972",
   "metadata": {},
   "outputs": [],
   "source": [
    "def update(M,count_down,density,burning_time = 10,growing_time = 50,wind_dir=[0,0]):\n",
    "    m = np.size(M,0) #size\n",
    "    n = np.size(M,1)\n",
    "    M_copy = np.zeros([m,n])\n",
    "    M_copy[M==-1] = -1\n",
    "    count_down_copy = count_down\n",
    "    for i in np.arange(m):\n",
    "        for j in np.arange(n):\n",
    "            if(count_down_copy[i,j]!=0):\n",
    "                count_down_copy[i,j] -= 1\n",
    "            if(M[i,j]==0): #flammable\n",
    "                if(if_burning_around(M,i,j,wind_dir)):\n",
    "                    M_copy[i,j] = 3\n",
    "                    count_down_copy[i,j] = burning_time*density[i,j]\n",
    "            elif(M[i,j]==3 and count_down_copy[i,j]==0):#burning\n",
    "                #burnt time reached     \n",
    "                M_copy[i,j] = 2 #burnt\n",
    "            elif(M[i,j]==3 and count_down_copy[i,j]!=0):\n",
    "                M_copy[i,j] = 3\n",
    "            elif(M[i,j]==2): #burnt\n",
    "                M_copy[i,j] = 1 #growing\n",
    "                count_down_copy[i,j] = np.random.randint(growing_time-10,growing_time+10)\n",
    "            elif(M[i,j]==1 and count_down_copy[i,j]==0): \n",
    "                M_copy[i,j] = 0 #flammable\n",
    "            elif(M[i,j]==1 and count_down_copy[i,j]!=0): \n",
    "                M_copy[i,j] = 1 \n",
    "    return M_copy,count_down_copy"
   ]
  },
  {
   "cell_type": "code",
   "execution_count": 8,
   "id": "d231cc60",
   "metadata": {},
   "outputs": [],
   "source": [
    "def colormap(value):\n",
    "    if(value==-1):\n",
    "        return 'black'\n",
    "    elif(value==0):\n",
    "        return 'y'\n",
    "    elif(value==1):\n",
    "        return 'g'\n",
    "    elif(value==2):\n",
    "        return 'b'\n",
    "    elif(value==3):\n",
    "        return 'r'"
   ]
  },
  {
   "cell_type": "code",
   "execution_count": 9,
   "id": "4ebfbbea-d1f6-4520-ac2a-9b5ceef7330c",
   "metadata": {},
   "outputs": [],
   "source": [
    "def plot_M(M,ax):\n",
    "    ax.axis('off')\n",
    "    '''\n",
    "    m = np.size(M,0) #size\n",
    "    n = np.size(M,1)\n",
    "    line = []\n",
    "    \n",
    "    x,y = np.meshgrid(np.arange(m),np.arange(n))\n",
    "    x = x.flatten()\n",
    "    y = y.flatten()\n",
    "    categories = M.flatten()\n",
    "\n",
    "    color_map = {-1:'black',0:'y',1:'g',2:'b',3:'black'}\n",
    "    colors = [color_map[cat] for cat in categories]\n",
    "    for cat in color_map:\n",
    "        mask = categories == cat\n",
    "        line.append(ax.scatter(x[mask], y[mask], c=color_map[cat], label=cat,s=0.1))\n",
    "    '''\n",
    "    \n",
    "    return ax.imshow(M,cmap='Reds')"
   ]
  },
  {
   "cell_type": "code",
   "execution_count": 10,
   "id": "a1325ce2",
   "metadata": {},
   "outputs": [],
   "source": [
    "def plot_mesh(M):\n",
    "    m = np.size(M,0) #size\n",
    "    n = np.size(M,1)\n",
    "\n",
    "    x,y = np.meshgrid(np.arange(m),np.arange(n))\n",
    "\n",
    "    plt.pcolormesh(x, y, M)\n",
    "    plt.show()"
   ]
  },
  {
   "cell_type": "code",
   "execution_count": 11,
   "id": "010ad5b4",
   "metadata": {},
   "outputs": [],
   "source": [
    "def wind(i,N):\n",
    "    theta = np.pi/N*i\n",
    "    return [50*np.cos(theta),50*np.sin(theta)]"
   ]
  },
  {
   "cell_type": "code",
   "execution_count": null,
   "id": "7a78e8b3",
   "metadata": {},
   "outputs": [
    {
     "ename": "KeyboardInterrupt",
     "evalue": "",
     "output_type": "error",
     "traceback": [
      "\u001b[1;31m---------------------------------------------------------------------------\u001b[0m",
      "\u001b[1;31mKeyboardInterrupt\u001b[0m                         Traceback (most recent call last)",
      "Cell \u001b[1;32mIn[14], line 18\u001b[0m\n\u001b[0;32m     15\u001b[0m N \u001b[38;5;241m=\u001b[39m \u001b[38;5;241m300\u001b[39m\n\u001b[0;32m     17\u001b[0m \u001b[38;5;28;01mfor\u001b[39;00m i \u001b[38;5;129;01min\u001b[39;00m \u001b[38;5;28mrange\u001b[39m(N):\n\u001b[1;32m---> 18\u001b[0m     M,count_down \u001b[38;5;241m=\u001b[39m update(M,count_down,density,burning_time\u001b[38;5;241m=\u001b[39m\u001b[38;5;241m5\u001b[39m,wind_dir\u001b[38;5;241m=\u001b[39m[\u001b[38;5;241m2\u001b[39m,\u001b[38;5;241m2\u001b[39m])\n\u001b[0;32m     20\u001b[0m     line \u001b[38;5;241m=\u001b[39m plot_M(M,ax)\n\u001b[0;32m     21\u001b[0m     artists\u001b[38;5;241m.\u001b[39mappend(line)\n",
      "Cell \u001b[1;32mIn[8], line 12\u001b[0m, in \u001b[0;36mupdate\u001b[1;34m(M, count_down, density, burning_time, growing_time, wind_dir)\u001b[0m\n\u001b[0;32m     10\u001b[0m     count_down_copy[i,j] \u001b[38;5;241m-\u001b[39m\u001b[38;5;241m=\u001b[39m \u001b[38;5;241m1\u001b[39m\n\u001b[0;32m     11\u001b[0m \u001b[38;5;28;01mif\u001b[39;00m(M[i,j]\u001b[38;5;241m==\u001b[39m\u001b[38;5;241m0\u001b[39m): \u001b[38;5;66;03m#flammable\u001b[39;00m\n\u001b[1;32m---> 12\u001b[0m     \u001b[38;5;28;01mif\u001b[39;00m(if_burning_around(M,i,j,wind_dir)):\n\u001b[0;32m     13\u001b[0m         M_copy[i,j] \u001b[38;5;241m=\u001b[39m \u001b[38;5;241m3\u001b[39m\n\u001b[0;32m     14\u001b[0m         count_down_copy[i,j] \u001b[38;5;241m=\u001b[39m burning_time\u001b[38;5;241m*\u001b[39mdensity[i,j]\n",
      "Cell \u001b[1;32mIn[7], line 1\u001b[0m, in \u001b[0;36mif_burning_around\u001b[1;34m(M, i, j, wind_dir)\u001b[0m\n\u001b[1;32m----> 1\u001b[0m \u001b[38;5;28;01mdef\u001b[39;00m \u001b[38;5;21mif_burning_around\u001b[39m(M,i,j,wind_dir): \u001b[38;5;66;03m#simplest\u001b[39;00m\n\u001b[0;32m      2\u001b[0m     tmp \u001b[38;5;241m=\u001b[39m \u001b[38;5;241m0\u001b[39m\n\u001b[0;32m      3\u001b[0m     m \u001b[38;5;241m=\u001b[39m np\u001b[38;5;241m.\u001b[39msize(M,\u001b[38;5;241m0\u001b[39m) \u001b[38;5;66;03m#size\u001b[39;00m\n",
      "\u001b[1;31mKeyboardInterrupt\u001b[0m: "
     ]
    },
    {
     "data": {
      "image/png": "[encoded data removed]",
      "text/plain": [
       "<Figure size 640x480 with 1 Axes>"
      ]
     },
     "metadata": {},
     "output_type": "display_data"
    }
   ],
   "source": [
    "\n",
    "\n",
    "n= 100\n",
    "M,count_down = start_fire(n,n)\n",
    "#density = np.random.randint(1,6,size=(m,n))\n",
    "density = np.zeros([n,n])+1\n",
    "'''\n",
    "for i in range(n):\n",
    "    for j in range(n):\n",
    "        density[i,j] = int(5*np.exp(-((2*i-n)/n)**2-((2*j-n)/n)**2))+1 \n",
    "plot_mesh(density)\n",
    "'''\n",
    "fig, ax = plt.subplots()\n",
    "artists = []\n",
    "N = 300\n",
    "\n",
    "for i in range(N):\n",
    "    M,count_down = update(M,count_down,density,burning_time=5,wind_dir=[2,2])\n",
    "\n",
    "    line = plot_M(M,ax)\n",
    "    artists.append(line)\n",
    " \n",
    "anim = ArtistAnimation(fig, artists)\n",
    "anim.save('fire_density.gif', writer='imagemagick')"
   ]
  },
  {
   "cell_type": "code",
   "execution_count": 13,
   "id": "6a4666d2",
   "metadata": {},
   "outputs": [
    {
     "data": {
      "image/png": "[encoded data removed]",
      "text/plain": [
       "<Figure size 640x480 with 1 Axes>"
      ]
     },
     "metadata": {},
     "output_type": "display_data"
    },
    {
     "name": "stderr",
     "output_type": "stream",
     "text": [
      "MovieWriter imagemagick unavailable; using Pillow instead.\n"
     ]
    },
    {
     "data": {
      "image/png": "[encoded data removed]",
      "text/plain": [
       "<Figure size 640x480 with 1 Axes>"
      ]
     },
     "metadata": {},
     "output_type": "display_data"
    }
   ],
   "source": [
    "M,count_down = start_fire_grid(grid)\n",
    "M[50,50] = 3\n",
    "count_down[50,50] = 2\n",
    "plt.imshow(M)\n",
    "plt.show()\n",
    "#density = np.random.randint(1,6,size=(m,n))\n",
    "m = np.size(M,0) \n",
    "n = np.size(M,1)\n",
    "density = np.zeros([m,n])+1\n",
    "\n",
    "fig, ax = plt.subplots()\n",
    "artists = []\n",
    "N = 100\n",
    "\n",
    "\n",
    "M_tracked = np.zeros(shape=(N + 1, M.shape[0], M.shape[1]))\n",
    "M_tracked[0] = M\n",
    "\n",
    "for i in range(N):\n",
    "    M,count_down = update(M,count_down,density,burning_time=5,wind_dir=[1,-1])\n",
    "    M_tracked[i + 1] = M\n",
    "    line = plot_M(M,ax)\n",
    "    artists.append([line])\n",
    " \n",
    "anim = ArtistAnimation(fig, artists)\n",
    "anim.save('fire_density_small.gif', writer='imagemagick')\n",
    "np.save('M_tracked.npy', M_tracked)"
   ]
  }
 ],
 "metadata": {
  "kernelspec": {
   "display_name": "base",
   "language": "python",
   "name": "python3"
  },
  "language_info": {
   "codemirror_mode": {
    "name": "ipython",
    "version": 3
   },
   "file_extension": ".py",
   "mimetype": "text/x-python",
   "name": "python",
   "nbconvert_exporter": "python",
   "pygments_lexer": "ipython3",
   "version": "3.12.2"
  }
 },
 "nbformat": 4,
 "nbformat_minor": 5
}
