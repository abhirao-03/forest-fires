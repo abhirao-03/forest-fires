{
 "cells": [
  {
   "cell_type": "code",
   "execution_count": 1,
   "id": "d2725534-1994-46f5-9203-a2b298ef57cb",
   "metadata": {},
   "outputs": [],
   "source": [
    "import numpy as np\n",
    "import matplotlib.pyplot as plt\n",
    "import random\n",
    "import PIL.Image\n",
    "from matplotlib.animation import ArtistAnimation\n",
    "from perlin_noise import PerlinNoise"
   ]
  },
  {
   "cell_type": "code",
   "execution_count": 2,
   "id": "6b7ab8e7",
   "metadata": {},
   "outputs": [],
   "source": [
    "grid = np.load('processed.npy')\n",
    "grid = grid[0:100,0:100]"
   ]
  },
  {
   "cell_type": "code",
   "execution_count": 3,
   "id": "8f87ff73",
   "metadata": {},
   "outputs": [],
   "source": [
    "def start_fire(m,n,p=0.001,burning_time=10): #width,height,prob\n",
    "    M = np.zeros([m,n])\n",
    "    count_down = np.zeros([m,n])\n",
    "    M_p = np.random.rand(m,n)\n",
    "    M[M_p>(1-p)] = 3\n",
    "    count_down[M_p>(1-p)] = burning_time\n",
    "    return M,count_down"
   ]
  },
  {
   "cell_type": "code",
   "execution_count": 4,
   "id": "2253c3fe",
   "metadata": {},
   "outputs": [],
   "source": [
    "def start_fire_grid(grid,p=0.0001,burning_time=10):\n",
    "    m = np.size(grid,0)\n",
    "    n = np.size(grid,1)\n",
    "    M = np.zeros([m,n])\n",
    "    count_down = np.zeros([m,n])\n",
    "    M_p = np.random.rand(m,n)\n",
    "    M[M_p>(1-p)] = 3\n",
    "    M[grid>0] = -1 #inflammable\n",
    "    count_down[M==3] = burning_time\n",
    "    return M,count_down"
   ]
  },
  {
   "cell_type": "code",
   "execution_count": null,
   "id": "4872dfd8",
   "metadata": {},
   "outputs": [],
   "source": [
    "def generate_species(m,n):\n",
    "    noise = PerlinNoise(octaves=3)\n",
    "    xpix, ypix = m, n\n",
    "    pic = [[noise([i/xpix, j/ypix]) for j in range(xpix)] for i in range(ypix)]\n",
    "    pic = np.array(pic)\n",
    "    pic = np.abs(pic)\n",
    "    species = np.zeros([m,n]) \n",
    "\n",
    "    max_noise = np.max(pic)\n",
    "    species[(pic<max_noise/2) & (pic>max_noise/6)] = 1\n",
    "    species[(pic<max_noise/3*2) & (pic>max_noise/2)] = 2\n",
    "    species[pic>max_noise/3*2] = 3\n",
    "\n",
    "    return species"
   ]
  },
  {
   "cell_type": "code",
   "execution_count": 2,
   "id": "bcb0ee98",
   "metadata": {},
   "outputs": [],
   "source": [
    "def generate_rain(m,n):\n",
    "    noise = PerlinNoise(octaves=3)\n",
    "    xpix, ypix = m, n\n",
    "    pic = [[noise([i/xpix, j/ypix]) for j in range(xpix)] for i in range(ypix)]\n",
    "    pic = np.array(pic)\n",
    "    pic = np.abs(pic)\n",
    "    species = np.zeros([m,n]) \n",
    "\n",
    "    max_noise = np.max(pic)\n",
    "    species[(pic<max_noise/3*2) & (pic>max_noise/3)] = 1\n",
    "    species[(pic>max_noise/3*2)] = 2\n",
    "\n",
    "    return species"
   ]
  },
  {
   "cell_type": "code",
   "execution_count": 8,
   "id": "0b0eb1c3",
   "metadata": {},
   "outputs": [],
   "source": [
    "def burning_prob(wind_dir): #[0,1] from south [1,0] from east\n",
    "    \n",
    "    prob = np.zeros(6)\n",
    "    distance = np.zeros(6)\n",
    "    if wind_dir[0]!=0:\n",
    "        theta = np.arctan(wind_dir[1]/wind_dir[0])\n",
    "    else:\n",
    "        if(wind_dir[1]>0):\n",
    "            theta = np.pi/2\n",
    "        else:\n",
    "            theta = -np.pi/2\n",
    "    theta = np.pi - theta\n",
    "\n",
    "    distance[0] = abs(theta-2/3*np.pi)\n",
    "    distance[1] = abs(theta-1/3*np.pi)\n",
    "    distance[2] = abs(theta)\n",
    "    distance[3] = abs(theta-5/3*np.pi)\n",
    "    distance[4] = abs(theta-4/3*np.pi)\n",
    "    distance[5] = abs(theta-np.pi)\n",
    "\n",
    "    for i in range(6):\n",
    "        if distance[i]>np.pi:\n",
    "            distance[i] = 2*np.pi - distance[i]\n",
    "        #prob[i] = random.uniform(1-distance[i]/np.pi,1)\n",
    "        prob[i] = random.uniform(1-np.sin(distance[i]/2),1)\n",
    "    \n",
    "    return prob\n",
    "      \n",
    "    '''\n",
    "    prob = np.zeros(4)\n",
    "    beta = 2\n",
    "\n",
    "    p_x = 0.8*(1-np.exp(-beta*abs(wind_dir[0])))\n",
    "    p_y = 0.8*(1-np.exp(-beta*abs(wind_dir[1])))\n",
    "    prob[0] = random.uniform(0.5-np.sign(wind_dir[0])*p_x, 1) #x-\n",
    "    prob[2] = random.uniform(0.5+np.sign(wind_dir[0])*p_x, 1) #x+\n",
    "    prob[1] = random.uniform(0.5-np.sign(wind_dir[1])*p_y,1) #y-\n",
    "    prob[3] = random.uniform(0.5+np.sign(wind_dir[1])*p_y,1) #y+\n",
    "    return prob\n",
    "    '''"
   ]
  },
  {
   "cell_type": "code",
   "execution_count": 1,
   "id": "7a6d4c4f-f577-4d08-86f8-547734b6fc07",
   "metadata": {},
   "outputs": [],
   "source": [
    "def if_burning_around(M,i,j,wind_dir,tol = 0.9): #simplest\n",
    "    tmp = 0\n",
    "    m = np.size(M,0) #size\n",
    "    n = np.size(M,1)\n",
    "    prob = burning_prob(wind_dir)\n",
    "    \n",
    "\n",
    "    if i%2==0 :\n",
    "        if i!=0 and M[i-1,j] == 3 and prob[0]>tol: #1\n",
    "            tmp = 1\n",
    "        elif i!=0 and j!=n-1 and M[i-1,j+1] == 3 and prob[1]>tol: #2\n",
    "            tmp = 1\n",
    "        elif j!=0 and M[i,j-1] == 3 and prob[5]>tol: #6\n",
    "            tmp = 1\n",
    "        elif j!=n-1 and M[i,j+1] == 3 and prob[2]>tol: #3\n",
    "            tmp = 1  \n",
    "        elif i!=m-1 and M[i+1,j] == 3 and prob[4]>tol: #5\n",
    "            tmp = 1\n",
    "        elif i!=m-1 and j!=n-1 and M[i+1,j+1] == 3 and prob[3]>tol: #4\n",
    "            tmp = 1\n",
    "    else:\n",
    "        if i!=0 and j!=0 and M[i-1,j-1] == 3 and prob[0]>tol: #1\n",
    "            tmp = 1\n",
    "        elif i!=0 and M[i-1,j] == 3 and prob[1]>tol: #2\n",
    "            tmp = 1\n",
    "        elif j!=0 and M[i,j-1] == 3 and prob[5]>tol: #6\n",
    "            tmp = 1\n",
    "        elif j!=n-1 and M[i,j+1] == 3 and prob[2]>tol: #3\n",
    "            tmp = 1\n",
    "        elif i!=m-1 and j!=0 and M[i+1,j-1] == 3 and prob[4]>tol: #5\n",
    "            tmp = 1\n",
    "        elif i!=m-1 and M[i+1,j] == 3 and prob[3]>tol: #4\n",
    "            tmp = 1\n",
    "\n",
    "    if tmp==1 : return True\n",
    "    else: return False"
   ]
  },
  {
   "cell_type": "code",
   "execution_count": null,
   "id": "100d4b7a-1c74-4779-bd82-da881549d972",
   "metadata": {},
   "outputs": [],
   "source": [
    "def update(M,count_down,species,burning_time = 10,growing_time = 50,wind_dir=[0,0]):\n",
    "    m = np.size(M,0) #size\n",
    "    n = np.size(M,1)\n",
    "    M_copy = np.zeros([m,n])\n",
    "    M_copy[M==1/4] = 1/4\n",
    "    M_copy[M==3/4] = 3/4\n",
    "    M_copy[M==1/2] = 1/2\n",
    "    M_copy[M==-1] = -1\n",
    "    M_copy[M==4] = 4\n",
    "    count_down_copy = count_down\n",
    "    for i in np.arange(m):\n",
    "        for j in np.arange(n):\n",
    "            if(count_down_copy[i,j]!=0):\n",
    "                count_down_copy[i,j] -= 1\n",
    "            if(M[i,j]>=0 and M[i,j]<1): #flammable\n",
    "                if(if_burning_around(M,i,j,wind_dir)):\n",
    "                    M_copy[i,j] = 3\n",
    "                    #count_down_copy[i,j] = burning_time*density[i,j]\n",
    "                    count_down_copy[i,j] = burning_time[int(species[i,j])]\n",
    "            elif(M[i,j]==3 and count_down_copy[i,j]==0):#burning\n",
    "                #burnt time reached     \n",
    "                M_copy[i,j] = 2 #burnt\n",
    "            elif(M[i,j]==3 and count_down_copy[i,j]!=0):\n",
    "                M_copy[i,j] = 3\n",
    "            elif(M[i,j]==2): #burnt\n",
    "                M_copy[i,j] = 1+species[i,j]/4 #growing\n",
    "                #count_down_copy[i,j] = np.random.randint(growing_time-10,growing_time+10)\n",
    "                count_down_copy[i,j] = growing_time[int(species[i,j])]\n",
    "            elif(M[i,j]>=1 and M[i,j]<2 and count_down_copy[i,j]==0): \n",
    "                M_copy[i,j] = species[i,j]/4 #flammable\n",
    "            elif(M[i,j]>=1 and M[i,j]<2 and count_down_copy[i,j]!=0): \n",
    "                M_copy[i,j] = 1+species[i,j]/4\n",
    "    return M_copy,count_down_copy"
   ]
  },
  {
   "cell_type": "code",
   "execution_count": 1,
   "id": "d231cc60",
   "metadata": {},
   "outputs": [],
   "source": [
    "def colormap(value):\n",
    "    if(value==-1):\n",
    "        return 'black'\n",
    "    elif(value==0):\n",
    "        return 'y'\n",
    "    elif(value==1):\n",
    "        return 'g'\n",
    "    elif(value==2):\n",
    "        return 'b'\n",
    "    elif(value==3):\n",
    "        return 'r'\n",
    "    elif(value==4):\n",
    "        return 'purple'"
   ]
  },
  {
   "cell_type": "code",
   "execution_count": 13,
   "id": "4ebfbbea-d1f6-4520-ac2a-9b5ceef7330c",
   "metadata": {},
   "outputs": [],
   "source": [
    "def plot_M(M,ax):\n",
    "    ax.axis('off')\n",
    "    '''\n",
    "    m = np.size(M,0) #size\n",
    "    n = np.size(M,1)\n",
    "    line = []\n",
    "    \n",
    "    x,y = np.meshgrid(np.arange(m),np.arange(n))\n",
    "    x = x.flatten()\n",
    "    y = y.flatten()\n",
    "    categories = M.flatten()\n",
    "\n",
    "    color_map = {-1:'black',0:'y',1:'g',2:'b',3:'black'}\n",
    "    colors = [color_map[cat] for cat in categories]\n",
    "    for cat in color_map:\n",
    "        mask = categories == cat\n",
    "        line.append(ax.scatter(x[mask], y[mask], c=color_map[cat], label=cat,s=0.1))\n",
    "    '''\n",
    "    \n",
    "    return ax.imshow(M,cmap='Reds')"
   ]
  },
  {
   "cell_type": "code",
   "execution_count": 14,
   "id": "a1325ce2",
   "metadata": {},
   "outputs": [],
   "source": [
    "def plot_mesh(M):\n",
    "    m = np.size(M,0) #size\n",
    "    n = np.size(M,1)\n",
    "\n",
    "    x,y = np.meshgrid(np.arange(m),np.arange(n))\n",
    "\n",
    "    plt.pcolormesh(x, y, M)\n",
    "    plt.show()"
   ]
  },
  {
   "cell_type": "code",
   "execution_count": 15,
   "id": "010ad5b4",
   "metadata": {},
   "outputs": [],
   "source": [
    "def wind(i,N):\n",
    "    theta = np.pi/N*i\n",
    "    return [50*np.cos(theta),50*np.sin(theta)]"
   ]
  },
  {
   "cell_type": "code",
   "execution_count": 12,
   "id": "7a78e8b3",
   "metadata": {},
   "outputs": [
    {
     "ename": "KeyboardInterrupt",
     "evalue": "",
     "output_type": "error",
     "traceback": [
      "\u001b[1;31m---------------------------------------------------------------------------\u001b[0m",
      "\u001b[1;31mKeyboardInterrupt\u001b[0m                         Traceback (most recent call last)",
      "Cell \u001b[1;32mIn[12], line 18\u001b[0m\n\u001b[0;32m     15\u001b[0m \u001b[38;5;28;01mfor\u001b[39;00m i \u001b[38;5;129;01min\u001b[39;00m \u001b[38;5;28mrange\u001b[39m(N):\n\u001b[0;32m     16\u001b[0m     M,count_down \u001b[38;5;241m=\u001b[39m update(M,count_down,density,burning_time\u001b[38;5;241m=\u001b[39m\u001b[38;5;241m5\u001b[39m,wind_dir\u001b[38;5;241m=\u001b[39m[\u001b[38;5;241m2\u001b[39m,\u001b[38;5;241m2\u001b[39m])\n\u001b[1;32m---> 18\u001b[0m     line \u001b[38;5;241m=\u001b[39m plot_M(M,ax)\n\u001b[0;32m     19\u001b[0m     artists\u001b[38;5;241m.\u001b[39mappend(line)\n\u001b[0;32m     21\u001b[0m anim \u001b[38;5;241m=\u001b[39m ArtistAnimation(fig, artists)\n",
      "Cell \u001b[1;32mIn[9], line 20\u001b[0m, in \u001b[0;36mplot_M\u001b[1;34m(M, ax)\u001b[0m\n\u001b[0;32m      2\u001b[0m ax\u001b[38;5;241m.\u001b[39maxis(\u001b[38;5;124m'\u001b[39m\u001b[38;5;124moff\u001b[39m\u001b[38;5;124m'\u001b[39m)\n\u001b[0;32m      3\u001b[0m \u001b[38;5;250m\u001b[39m\u001b[38;5;124;03m'''\u001b[39;00m\n\u001b[0;32m      4\u001b[0m \u001b[38;5;124;03mm = np.size(M,0) #size\u001b[39;00m\n\u001b[0;32m      5\u001b[0m \u001b[38;5;124;03mn = np.size(M,1)\u001b[39;00m\n\u001b[1;32m   (...)\u001b[0m\n\u001b[0;32m     17\u001b[0m \u001b[38;5;124;03m    line.append(ax.scatter(x[mask], y[mask], c=color_map[cat], label=cat,s=0.1))\u001b[39;00m\n\u001b[0;32m     18\u001b[0m \u001b[38;5;124;03m'''\u001b[39;00m\n\u001b[1;32m---> 20\u001b[0m \u001b[38;5;28;01mreturn\u001b[39;00m ax\u001b[38;5;241m.\u001b[39mimshow(M,cmap\u001b[38;5;241m=\u001b[39m\u001b[38;5;124m'\u001b[39m\u001b[38;5;124mReds\u001b[39m\u001b[38;5;124m'\u001b[39m)\n",
      "File \u001b[1;32md:\\Anaconda\\Lib\\site-packages\\matplotlib\\__init__.py:1465\u001b[0m, in \u001b[0;36m_preprocess_data.<locals>.inner\u001b[1;34m(ax, data, *args, **kwargs)\u001b[0m\n\u001b[0;32m   1462\u001b[0m \u001b[38;5;129m@functools\u001b[39m\u001b[38;5;241m.\u001b[39mwraps(func)\n\u001b[0;32m   1463\u001b[0m \u001b[38;5;28;01mdef\u001b[39;00m \u001b[38;5;21minner\u001b[39m(ax, \u001b[38;5;241m*\u001b[39margs, data\u001b[38;5;241m=\u001b[39m\u001b[38;5;28;01mNone\u001b[39;00m, \u001b[38;5;241m*\u001b[39m\u001b[38;5;241m*\u001b[39mkwargs):\n\u001b[0;32m   1464\u001b[0m     \u001b[38;5;28;01mif\u001b[39;00m data \u001b[38;5;129;01mis\u001b[39;00m \u001b[38;5;28;01mNone\u001b[39;00m:\n\u001b[1;32m-> 1465\u001b[0m         \u001b[38;5;28;01mreturn\u001b[39;00m func(ax, \u001b[38;5;241m*\u001b[39m\u001b[38;5;28mmap\u001b[39m(sanitize_sequence, args), \u001b[38;5;241m*\u001b[39m\u001b[38;5;241m*\u001b[39mkwargs)\n\u001b[0;32m   1467\u001b[0m     bound \u001b[38;5;241m=\u001b[39m new_sig\u001b[38;5;241m.\u001b[39mbind(ax, \u001b[38;5;241m*\u001b[39margs, \u001b[38;5;241m*\u001b[39m\u001b[38;5;241m*\u001b[39mkwargs)\n\u001b[0;32m   1468\u001b[0m     auto_label \u001b[38;5;241m=\u001b[39m (bound\u001b[38;5;241m.\u001b[39marguments\u001b[38;5;241m.\u001b[39mget(label_namer)\n\u001b[0;32m   1469\u001b[0m                   \u001b[38;5;129;01mor\u001b[39;00m bound\u001b[38;5;241m.\u001b[39mkwargs\u001b[38;5;241m.\u001b[39mget(label_namer))\n",
      "File \u001b[1;32md:\\Anaconda\\Lib\\site-packages\\matplotlib\\axes\\_axes.py:5764\u001b[0m, in \u001b[0;36mAxes.imshow\u001b[1;34m(self, X, cmap, norm, aspect, interpolation, alpha, vmin, vmax, origin, extent, interpolation_stage, filternorm, filterrad, resample, url, **kwargs)\u001b[0m\n\u001b[0;32m   5761\u001b[0m \u001b[38;5;28;01mif\u001b[39;00m im\u001b[38;5;241m.\u001b[39mget_clip_path() \u001b[38;5;129;01mis\u001b[39;00m \u001b[38;5;28;01mNone\u001b[39;00m:\n\u001b[0;32m   5762\u001b[0m     \u001b[38;5;66;03m# image does not already have clipping set, clip to axes patch\u001b[39;00m\n\u001b[0;32m   5763\u001b[0m     im\u001b[38;5;241m.\u001b[39mset_clip_path(\u001b[38;5;28mself\u001b[39m\u001b[38;5;241m.\u001b[39mpatch)\n\u001b[1;32m-> 5764\u001b[0m im\u001b[38;5;241m.\u001b[39m_scale_norm(norm, vmin, vmax)\n\u001b[0;32m   5765\u001b[0m im\u001b[38;5;241m.\u001b[39mset_url(url)\n\u001b[0;32m   5767\u001b[0m \u001b[38;5;66;03m# update ax.dataLim, and, if autoscaling, set viewLim\u001b[39;00m\n\u001b[0;32m   5768\u001b[0m \u001b[38;5;66;03m# to tightly fit the image, regardless of dataLim.\u001b[39;00m\n",
      "File \u001b[1;32md:\\Anaconda\\Lib\\site-packages\\matplotlib\\cm.py:441\u001b[0m, in \u001b[0;36mScalarMappable._scale_norm\u001b[1;34m(self, norm, vmin, vmax)\u001b[0m\n\u001b[0;32m    434\u001b[0m         \u001b[38;5;28;01mraise\u001b[39;00m \u001b[38;5;167;01mValueError\u001b[39;00m(\n\u001b[0;32m    435\u001b[0m             \u001b[38;5;124m\"\u001b[39m\u001b[38;5;124mPassing a Normalize instance simultaneously with \u001b[39m\u001b[38;5;124m\"\u001b[39m\n\u001b[0;32m    436\u001b[0m             \u001b[38;5;124m\"\u001b[39m\u001b[38;5;124mvmin/vmax is not supported.  Please pass vmin/vmax \u001b[39m\u001b[38;5;124m\"\u001b[39m\n\u001b[0;32m    437\u001b[0m             \u001b[38;5;124m\"\u001b[39m\u001b[38;5;124mdirectly to the norm when creating it.\u001b[39m\u001b[38;5;124m\"\u001b[39m)\n\u001b[0;32m    439\u001b[0m \u001b[38;5;66;03m# always resolve the autoscaling so we have concrete limits\u001b[39;00m\n\u001b[0;32m    440\u001b[0m \u001b[38;5;66;03m# rather than deferring to draw time.\u001b[39;00m\n\u001b[1;32m--> 441\u001b[0m \u001b[38;5;28mself\u001b[39m\u001b[38;5;241m.\u001b[39mautoscale_None()\n",
      "File \u001b[1;32md:\\Anaconda\\Lib\\site-packages\\matplotlib\\cm.py:678\u001b[0m, in \u001b[0;36mScalarMappable.autoscale_None\u001b[1;34m(self)\u001b[0m\n\u001b[0;32m    675\u001b[0m     \u001b[38;5;28;01mraise\u001b[39;00m \u001b[38;5;167;01mTypeError\u001b[39;00m(\u001b[38;5;124m'\u001b[39m\u001b[38;5;124mYou must first set_array for mappable\u001b[39m\u001b[38;5;124m'\u001b[39m)\n\u001b[0;32m    676\u001b[0m \u001b[38;5;66;03m# If the norm's limits are updated self.changed() will be called\u001b[39;00m\n\u001b[0;32m    677\u001b[0m \u001b[38;5;66;03m# through the callbacks attached to the norm\u001b[39;00m\n\u001b[1;32m--> 678\u001b[0m \u001b[38;5;28mself\u001b[39m\u001b[38;5;241m.\u001b[39mnorm\u001b[38;5;241m.\u001b[39mautoscale_None(\u001b[38;5;28mself\u001b[39m\u001b[38;5;241m.\u001b[39m_A)\n",
      "File \u001b[1;32md:\\Anaconda\\Lib\\site-packages\\matplotlib\\colors.py:1408\u001b[0m, in \u001b[0;36mNormalize.autoscale_None\u001b[1;34m(self, A)\u001b[0m\n\u001b[0;32m   1405\u001b[0m         A \u001b[38;5;241m=\u001b[39m A\u001b[38;5;241m.\u001b[39mdata\n\u001b[0;32m   1407\u001b[0m \u001b[38;5;28;01mif\u001b[39;00m \u001b[38;5;28mself\u001b[39m\u001b[38;5;241m.\u001b[39mvmin \u001b[38;5;129;01mis\u001b[39;00m \u001b[38;5;28;01mNone\u001b[39;00m \u001b[38;5;129;01mand\u001b[39;00m A\u001b[38;5;241m.\u001b[39msize:\n\u001b[1;32m-> 1408\u001b[0m     \u001b[38;5;28mself\u001b[39m\u001b[38;5;241m.\u001b[39mvmin \u001b[38;5;241m=\u001b[39m A\u001b[38;5;241m.\u001b[39mmin()\n\u001b[0;32m   1409\u001b[0m \u001b[38;5;28;01mif\u001b[39;00m \u001b[38;5;28mself\u001b[39m\u001b[38;5;241m.\u001b[39mvmax \u001b[38;5;129;01mis\u001b[39;00m \u001b[38;5;28;01mNone\u001b[39;00m \u001b[38;5;129;01mand\u001b[39;00m A\u001b[38;5;241m.\u001b[39msize:\n\u001b[0;32m   1410\u001b[0m     \u001b[38;5;28mself\u001b[39m\u001b[38;5;241m.\u001b[39mvmax \u001b[38;5;241m=\u001b[39m A\u001b[38;5;241m.\u001b[39mmax()\n",
      "File \u001b[1;32md:\\Anaconda\\Lib\\site-packages\\numpy\\core\\_methods.py:45\u001b[0m, in \u001b[0;36m_amin\u001b[1;34m(a, axis, out, keepdims, initial, where)\u001b[0m\n\u001b[0;32m     43\u001b[0m \u001b[38;5;28;01mdef\u001b[39;00m \u001b[38;5;21m_amin\u001b[39m(a, axis\u001b[38;5;241m=\u001b[39m\u001b[38;5;28;01mNone\u001b[39;00m, out\u001b[38;5;241m=\u001b[39m\u001b[38;5;28;01mNone\u001b[39;00m, keepdims\u001b[38;5;241m=\u001b[39m\u001b[38;5;28;01mFalse\u001b[39;00m,\n\u001b[0;32m     44\u001b[0m           initial\u001b[38;5;241m=\u001b[39m_NoValue, where\u001b[38;5;241m=\u001b[39m\u001b[38;5;28;01mTrue\u001b[39;00m):\n\u001b[1;32m---> 45\u001b[0m     \u001b[38;5;28;01mreturn\u001b[39;00m umr_minimum(a, axis, \u001b[38;5;28;01mNone\u001b[39;00m, out, keepdims, initial, where)\n",
      "\u001b[1;31mKeyboardInterrupt\u001b[0m: "
     ]
    },
    {
     "data": {
      "image/png": "[encoded data removed]",
      "text/plain": [
       "<Figure size 640x480 with 1 Axes>"
      ]
     },
     "metadata": {},
     "output_type": "display_data"
    }
   ],
   "source": [
    "n= 100\n",
    "M,count_down = start_fire(n,n)\n",
    "#density = np.random.randint(1,6,size=(m,n))\n",
    "density = np.zeros([n,n])+1\n",
    "'''\n",
    "for i in range(n):\n",
    "    for j in range(n):\n",
    "        density[i,j] = int(5*np.exp(-((2*i-n)/n)**2-((2*j-n)/n)**2))+1 \n",
    "plot_mesh(density)\n",
    "'''\n",
    "fig, ax = plt.subplots()\n",
    "artists = []\n",
    "N = 300\n",
    "\n",
    "for i in range(N):\n",
    "    M,count_down = update(M,count_down,density,burning_time=5,wind_dir=[2,2])\n",
    "\n",
    "    line = plot_M(M,ax)\n",
    "    artists.append(line)\n",
    " \n",
    "anim = ArtistAnimation(fig, artists)\n",
    "anim.save('fire_density.gif', writer='imagemagick')"
   ]
  },
  {
   "cell_type": "code",
   "execution_count": null,
   "id": "6a4666d2",
   "metadata": {},
   "outputs": [
    {
     "data": {
      "image/png": "[encoded data removed]",
      "text/plain": [
       "<Figure size 640x480 with 1 Axes>"
      ]
     },
     "metadata": {},
     "output_type": "display_data"
    },
    {
     "data": {
      "image/png": "[encoded data removed]",
      "text/plain": [
       "<Figure size 640x480 with 1 Axes>"
      ]
     },
     "metadata": {},
     "output_type": "display_data"
    },
    {
     "name": "stderr",
     "output_type": "stream",
     "text": [
      "MovieWriter imagemagick unavailable; using Pillow instead.\n"
     ]
    },
    {
     "data": {
      "image/png": "[encoded data removed]",
      "text/plain": [
       "<Figure size 640x480 with 1 Axes>"
      ]
     },
     "metadata": {},
     "output_type": "display_data"
    }
   ],
   "source": [
    "M,count_down = start_fire_grid(grid)\n",
    "M[50,50] = 3\n",
    "count_down[50,50] = 2\n",
    "plt.imshow(M)\n",
    "plt.show()\n",
    "#density = np.random.randint(1,6,size=(m,n))\n",
    "m = np.size(M,0) \n",
    "n = np.size(M,1)\n",
    "#density = np.zeros([m,n])+1\n",
    "species = generate_species(m,n)\n",
    "plt.imshow(species)\n",
    "plt.show()\n",
    "burning_time = [5,5,8,10]\n",
    "growing_time = [20,20,40,100]\n",
    "\n",
    "M_series = []\n",
    "\n",
    "fig, ax = plt.subplots()\n",
    "artists = []\n",
    "N = 100\n",
    "\n",
    "for i in range(N):\n",
    "    M,count_down = update(M,count_down,species,burning_time,growing_time,wind_dir=[2,2])\n",
    "    M_series.append(M)\n",
    "\n",
    "    line = plot_M(M,ax)\n",
    "    artists.append([line])\n",
    "\n",
    "np.save('output.npy',M_series)\n",
    "anim = ArtistAnimation(fig, artists)\n",
    "anim.save('fire_density_small.gif', writer='imagemagick')\n"
   ]
  }
 ],
 "metadata": {
  "kernelspec": {
   "display_name": "base",
   "language": "python",
   "name": "python3"
  },
  "language_info": {
   "codemirror_mode": {
    "name": "ipython",
    "version": 3
   },
   "file_extension": ".py",
   "mimetype": "text/x-python",
   "name": "python",
   "nbconvert_exporter": "python",
   "pygments_lexer": "ipython3",
   "version": "3.12.4"
  }
 },
 "nbformat": 4,
 "nbformat_minor": 5
}
