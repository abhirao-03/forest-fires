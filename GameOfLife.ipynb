{
 "cells": [
  {
   "cell_type": "markdown",
   "metadata": {},
   "source": [
    "This simulates the game of life, which consists of an array (board) of cells which can be alive or dead.  They evolve at discrete timesteps according to the following rules:\n",
    "1. any live cell with fewer than two live neighbours dies (underpopulation)\n",
    "2. any live cell with two or three live neighbours lives\n",
    "3. any live cell with more than three live neighbours dies (overpopulation)\n",
    "4. any dead cell with exactly three live neighbours becomes live (reproduction)\n"
   ]
  },
  {
   "cell_type": "code",
   "execution_count": 36,
   "metadata": {},
   "outputs": [],
   "source": [
    "import numpy as np\n",
    "import matplotlib.pyplot as plt\n",
    "from IPython.display import display, clear_output"
   ]
  },
  {
   "cell_type": "code",
   "execution_count": 37,
   "metadata": {},
   "outputs": [],
   "source": [
    "def new_board(board_size):\n",
    "    '''\n",
    "    Set up a new, empty board\n",
    "    '''\n",
    "    return np.zeros(board_size)"
   ]
  },
  {
   "cell_type": "code",
   "execution_count": 38,
   "metadata": {},
   "outputs": [],
   "source": [
    "def random_board(board_size,p):\n",
    "    '''\n",
    "    Set up a random board where a cell is alive with probability p\n",
    "    '''\n",
    "    random_cells = np.random.rand(board_size[0],board_size[1])\n",
    "    board = new_board(board_size)\n",
    "    board[random_cells > 1-p] = 1\n",
    "    return board"
   ]
  },
  {
   "cell_type": "code",
   "execution_count": 39,
   "metadata": {},
   "outputs": [],
   "source": [
    "def plot_board(board):\n",
    "    ''' \n",
    "    Plot a board with white alive and black dead\n",
    "    '''\n",
    "    img = plt.imshow(board,cmap='gray')\n",
    "    return img"
   ]
  },
  {
   "cell_type": "code",
   "execution_count": 40,
   "metadata": {},
   "outputs": [],
   "source": [
    "def get_cell(board,row,col):\n",
    "    '''\n",
    "    Return the value of the cell at (row,col) in board, modulo the size of the board\n",
    "    '''\n",
    "    return board[row % board.shape[0],col % board.shape[1]]"
   ]
  },
  {
   "cell_type": "code",
   "execution_count": 41,
   "metadata": {},
   "outputs": [],
   "source": [
    "def set_cell(board,row,col,value):\n",
    "    '''\n",
    "    Assign the given value to the cell at (row,col) in board, modulo the size of the board\n",
    "    '''\n",
    "    board[row % board.shape[0],col % board.shape[1]] = value\n",
    "    return board"
   ]
  },
  {
   "cell_type": "code",
   "execution_count": 42,
   "metadata": {},
   "outputs": [],
   "source": [
    "def count_neighbours(board,row,col):\n",
    "    '''\n",
    "    Count the number of alive neighbours of cell at (row,col), with periodic boundary conditions\n",
    "    (implemented through get_cell)\n",
    "    '''\n",
    "    return(  get_cell(board,row-1,col-1) + get_cell(board,row-1,col) + get_cell(board,row-1,col+1)\n",
    "           + get_cell(board,row,col-1)                               + get_cell(board,row,col+1)\n",
    "           + get_cell(board,row+1,col-1) + get_cell(board,row+1,col) + get_cell(board,row+1,col+1))"
   ]
  },
  {
   "cell_type": "code",
   "execution_count": 43,
   "metadata": {},
   "outputs": [],
   "source": [
    "def step(board):\n",
    "    '''\n",
    "    Creates the next iteration from a given board\n",
    "    '''\n",
    "    \n",
    "    # create an empty board to store the new result in\n",
    "    next_board = new_board(board.shape)\n",
    "    \n",
    "    # loop over each row and column\n",
    "    for row in range(0, board.shape[0]):\n",
    "        for col in range(0, board.shape[1]):\n",
    "            \n",
    "            # determine the number of neighbours\n",
    "            num_neighbours = count_neighbours(board, row, col)\n",
    "\n",
    "            # determine if the cell is alive\n",
    "            is_alive = get_cell(board, row, col) == 1\n",
    "            \n",
    "            # apply the rules\n",
    "            # EXERCISE: reduce this to the fewest possible computations\n",
    "            # Bear in mind that next_board starts off as all zeros\n",
    "            if num_neighbours < 2 and is_alive:\n",
    "                set_cell(next_board, row, col, 0)\n",
    "            elif 2 <= num_neighbours <= 3 and is_alive:\n",
    "                set_cell(next_board, row, col, 1)\n",
    "            elif num_neighbours > 3 and is_alive:\n",
    "                set_cell(next_board, row, col, 0)\n",
    "            elif num_neighbours == 3 and not is_alive:\n",
    "                set_cell(next_board, row, col, 1)\n",
    "            else:\n",
    "                set_cell(next_board, row, col, 0)\n",
    "                \n",
    "    return next_board"
   ]
  },
  {
   "cell_type": "code",
   "execution_count": 47,
   "metadata": {},
   "outputs": [
    {
     "data": {
      "image/png": "[encoded data removed]",
      "text/plain": [
       "<Figure size 640x480 with 1 Axes>"
      ]
     },
     "metadata": {},
     "output_type": "display_data"
    }
   ],
   "source": [
    "# see what happens with a random board\n",
    "n_steps = 500\n",
    "\n",
    "board = random_board([100,100],0.2)\n",
    "fig, ax = plt.subplots()\n",
    "img = plot_board(board)\n",
    "\n",
    "for i_step in range(n_steps):\n",
    "    board = step(board)\n",
    "    img.set_array(board)\n",
    "    plt.pause(0.03)\n",
    "    clear_output(wait=True)\n",
    "    display(fig)"
   ]
  }
 ],
 "metadata": {
  "kernelspec": {
   "display_name": "base",
   "language": "python",
   "name": "python3"
  },
  "language_info": {
   "codemirror_mode": {
    "name": "ipython",
    "version": 3
   },
   "file_extension": ".py",
   "mimetype": "text/x-python",
   "name": "python",
   "nbconvert_exporter": "python",
   "pygments_lexer": "ipython3",
   "version": "3.12.2"
  }
 },
 "nbformat": 4,
 "nbformat_minor": 4
}
