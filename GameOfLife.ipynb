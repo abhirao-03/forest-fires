{
 "cells": [
  {
   "cell_type": "markdown",
   "metadata": {},
   "source": [
    "This simulates the game of life, which consists of an array (board) of cells which can be alive or dead.  They evolve at discrete timesteps according to the following rules:\n",
    "1. any live cell with fewer than two live neighbours dies (underpopulation)\n",
    "2. any live cell with two or three live neighbours lives\n",
    "3. any live cell with more than three live neighbours dies (overpopulation)\n",
    "4. any dead cell with exactly three live neighbours becomes live (reproduction)\n"
   ]
  },
  {
   "cell_type": "code",
   "execution_count": 1,
   "metadata": {},
   "outputs": [],
   "source": [
    "import numpy as np\n",
    "import matplotlib.pyplot as plt\n",
    "from IPython.display import display, clear_output"
   ]
  },
  {
   "cell_type": "code",
   "execution_count": 2,
   "metadata": {},
   "outputs": [],
   "source": [
    "def new_board(board_size):\n",
    "    '''\n",
    "    Set up a new, empty board\n",
    "    '''\n",
    "    return np.zeros(board_size)"
   ]
  },
  {
   "cell_type": "code",
   "execution_count": 3,
   "metadata": {},
   "outputs": [],
   "source": [
    "def glider_board(board_size):\n",
    "    '''\n",
    "    Set up an example board with a glider on it\n",
    "    '''\n",
    "    board = new_board(board_size)\n",
    "    board[5,5] = 1\n",
    "    board[5,6] = 1\n",
    "    board[5,7] = 1\n",
    "    board[4,7] = 1\n",
    "    board[3,6] = 1\n",
    "    return board"
   ]
  },
  {
   "cell_type": "code",
   "execution_count": 4,
   "metadata": {},
   "outputs": [],
   "source": [
    "def random_board(board_size,p):\n",
    "    '''\n",
    "    Set up a random board where a cell is alive with probability p\n",
    "    '''\n",
    "    random_cells = np.random.rand(board_size[0],board_size[1])\n",
    "    board = new_board(board_size)\n",
    "    board[random_cells > 1-p] = 1\n",
    "    return board"
   ]
  },
  {
   "cell_type": "code",
   "execution_count": 5,
   "metadata": {},
   "outputs": [],
   "source": [
    "def plot_board(board):\n",
    "    ''' \n",
    "    Plot a board with white alive and black dead\n",
    "    '''\n",
    "    img = plt.imshow(board,cmap='gray')\n",
    "    return img"
   ]
  },
  {
   "cell_type": "code",
   "execution_count": 6,
   "metadata": {},
   "outputs": [],
   "source": [
    "def get_cell(board,row,col):\n",
    "    '''\n",
    "    Return the value of the cell at (row,col) in board, modulo the size of the board\n",
    "    '''\n",
    "    return board[row % board.shape[0],col % board.shape[1]]"
   ]
  },
  {
   "cell_type": "code",
   "execution_count": 7,
   "metadata": {},
   "outputs": [],
   "source": [
    "def set_cell(board,row,col,value):\n",
    "    '''\n",
    "    Assign the given value to the cell at (row,col) in board, modulo the size of the board\n",
    "    '''\n",
    "    board[row % board.shape[0],col % board.shape[1]] = value\n",
    "    return board"
   ]
  },
  {
   "cell_type": "code",
   "execution_count": 8,
   "metadata": {},
   "outputs": [],
   "source": [
    "def count_neighbours(board,row,col):\n",
    "    '''\n",
    "    Count the number of alive neighbours of cell at (row,col), with periodic boundary conditions\n",
    "    (implemented through get_cell)\n",
    "    '''\n",
    "    return(  get_cell(board,row-1,col-1) + get_cell(board,row-1,col) + get_cell(board,row-1,col+1)\n",
    "           + get_cell(board,row,col-1)                               + get_cell(board,row,col+1)\n",
    "           + get_cell(board,row+1,col-1) + get_cell(board,row+1,col) + get_cell(board,row+1,col+1))"
   ]
  },
  {
   "cell_type": "code",
   "execution_count": 9,
   "metadata": {},
   "outputs": [],
   "source": [
    "from scipy.signal import convolve2d\n",
    "\n",
    "def count_neighbours_conv(board):\n",
    "    '''\n",
    "    Count the number of alive neighbours of each cell, with periodic boundary conditions.\n",
    "    neighbours is the same size as board\n",
    "    This is a fancy way with a convolution\n",
    "    '''\n",
    "    kernel = np.array(\n",
    "        [[1., 1., 1.],\n",
    "         [1., 0., 1.],\n",
    "         [1., 1., 1.]]\n",
    "    )\n",
    "    neighbours = convolve2d(board, kernel, mode='same', boundary=\"wrap\")\n",
    "    return neighbours"
   ]
  },
  {
   "cell_type": "code",
   "execution_count": 10,
   "metadata": {},
   "outputs": [],
   "source": [
    "def step(board):\n",
    "    '''\n",
    "    Creates the next iteration from a given board\n",
    "    '''\n",
    "    \n",
    "    # create an empty board to store the new result in\n",
    "    next_board = new_board(board.shape)\n",
    "    \n",
    "    # loop over each row and column\n",
    "    for row in range(0, board.shape[0]):\n",
    "        for col in range(0, board.shape[1]):\n",
    "            \n",
    "            # determine the number of neighbours\n",
    "            num_neighbours = count_neighbours(board, row, col)\n",
    "\n",
    "            # determine if the cell is alive\n",
    "            is_alive = get_cell(board, row, col) == 1\n",
    "            \n",
    "            # apply the rules\n",
    "            # EXERCISE: reduce this to the fewest possible computations\n",
    "            # Bear in mind that next_board starts off as all zeros\n",
    "            if num_neighbours < 2 and is_alive:\n",
    "                set_cell(next_board, row, col, 0)\n",
    "            elif 2 <= num_neighbours <= 3 and is_alive:\n",
    "                set_cell(next_board, row, col, 1)\n",
    "            elif num_neighbours > 3 and is_alive:\n",
    "                set_cell(next_board, row, col, 0)\n",
    "            elif num_neighbours == 3 and not is_alive:\n",
    "                set_cell(next_board, row, col, 1)\n",
    "            else:\n",
    "                set_cell(next_board, row, col, 0)\n",
    "                \n",
    "    return next_board"
   ]
  },
  {
   "cell_type": "code",
   "execution_count": 11,
   "metadata": {},
   "outputs": [],
   "source": [
    "def step_conv(board):\n",
    "    '''\n",
    "    Creates the next iteration from a given board\n",
    "    This is a fancy way with a convolution\n",
    "    '''\n",
    "    # create an empty board to store the result in\n",
    "    next_board = new_board(board.shape)\n",
    "    \n",
    "    # compute the number of neighbours for each cell\n",
    "    num_neighbours = count_neighbours_conv(board)\n",
    "\n",
    "    # determine if cells are alive or dead\n",
    "    is_alive = board == 1.0\n",
    "    is_dead = board == 0.0\n",
    "    \n",
    "    # compute masks for each of the four interesting cases\n",
    "    isolated_mask = np.logical_and((num_neighbours < 2), is_alive)\n",
    "    two_or_three = np.logical_or(num_neighbours == 2.0, num_neighbours == 3.0)\n",
    "    live_mask = np.logical_and(two_or_three, is_alive)\n",
    "    overcrowded_mask = np.logical_and((num_neighbours > 3), is_alive)\n",
    "    grow_mask = np.logical_and((num_neighbours == 3), is_dead)\n",
    "\n",
    "    # apply the results on the masks\n",
    "    # note that the ones that set the value to zero don't actually do anything\n",
    "    next_board[isolated_mask] = 0\n",
    "    next_board[live_mask] = 1\n",
    "    next_board[overcrowded_mask] = 0\n",
    "    next_board[grow_mask] = 1\n",
    "\n",
    "    return next_board"
   ]
  },
  {
   "cell_type": "code",
   "execution_count": 12,
   "metadata": {},
   "outputs": [
    {
     "data": {
      "image/png": "[encoded data removed]",
      "text/plain": [
       "<Figure size 640x480 with 1 Axes>"
      ]
     },
     "metadata": {},
     "output_type": "display_data"
    }
   ],
   "source": [
    "# Test with a glider example with the standard code\n",
    "n_steps = 10\n",
    "\n",
    "board = glider_board([10,10])\n",
    "fig, ax = plt.subplots()\n",
    "img = plot_board(board)\n",
    "\n",
    "for i_step in range(n_steps):\n",
    "    board = step(board)\n",
    "    img.set_array(board)\n",
    "    plt.pause(0.1)\n",
    "    clear_output(wait=True)\n",
    "    display(fig)"
   ]
  },
  {
   "cell_type": "code",
   "execution_count": 13,
   "metadata": {},
   "outputs": [
    {
     "data": {
      "image/png": "[encoded data removed]",
      "text/plain": [
       "<Figure size 432x288 with 1 Axes>"
      ]
     },
     "metadata": {},
     "output_type": "display_data"
    }
   ],
   "source": [
    "# Test with a glider example with the convolution code\n",
    "n_steps = 10\n",
    "\n",
    "board = glider_board([10,10])\n",
    "fig, ax = plt.subplots()\n",
    "img = plot_board(board)\n",
    "\n",
    "for i_step in range(n_steps):\n",
    "    board = step_conv(board)\n",
    "    img.set_array(board)\n",
    "    plt.pause(0.1)\n",
    "    clear_output(wait=True)\n",
    "    display(fig)"
   ]
  },
  {
   "cell_type": "code",
   "execution_count": 13,
   "metadata": {},
   "outputs": [
    {
     "data": {
      "image/png": "[encoded data removed]",
      "text/plain": [
       "<Figure size 640x480 with 1 Axes>"
      ]
     },
     "metadata": {},
     "output_type": "display_data"
    }
   ],
   "source": [
    "# see what happens with a random board\n",
    "n_steps = 100\n",
    "\n",
    "board = random_board([20,20],0.2)\n",
    "fig, ax = plt.subplots()\n",
    "img = plot_board(board)\n",
    "\n",
    "for i_step in range(n_steps):\n",
    "    board = step(board)\n",
    "    img.set_array(board)\n",
    "    plt.pause(0.1)\n",
    "    clear_output(wait=True)\n",
    "    display(fig)"
   ]
  },
  {
   "cell_type": "code",
   "execution_count": null,
   "metadata": {},
   "outputs": [],
   "source": []
  }
 ],
 "metadata": {
  "kernelspec": {
   "display_name": "Python 3 (ipykernel)",
   "language": "python",
   "name": "python3"
  },
  "language_info": {
   "codemirror_mode": {
    "name": "ipython",
    "version": 3
   },
   "file_extension": ".py",
   "mimetype": "text/x-python",
   "name": "python",
   "nbconvert_exporter": "python",
   "pygments_lexer": "ipython3",
   "version": "3.12.4"
  }
 },
 "nbformat": 4,
 "nbformat_minor": 4
}
