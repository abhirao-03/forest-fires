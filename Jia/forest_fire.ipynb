{
 "cells": [
  {
   "cell_type": "code",
   "execution_count": 1,
   "id": "d2725534-1994-46f5-9203-a2b298ef57cb",
   "metadata": {},
   "outputs": [],
   "source": [
    "import numpy as np\n",
    "import matplotlib.pyplot as plt\n",
    "import random"
   ]
  },
  {
   "cell_type": "code",
   "execution_count": 2,
   "id": "8f87ff73",
   "metadata": {},
   "outputs": [],
   "source": [
    "def start_fire(m,n,p=0.0005,burning_time=10): #width,height,prob\n",
    "    M = np.zeros([m,n])\n",
    "    count_down = np.zeros([m,n])\n",
    "    M_p = np.random.rand(m,n)\n",
    "    M[M_p>(1-p)] = 3\n",
    "    count_down[M_p>(1-p)] = burning_time\n",
    "    return M,count_down"
   ]
  },
  {
   "cell_type": "code",
   "execution_count": 3,
   "id": "0b0eb1c3",
   "metadata": {},
   "outputs": [],
   "source": [
    "def burning_prob(wind_dir): #[0,1] from south [1,0] from east\n",
    "    prob = np.zeros(4)\n",
    "    beta = 2\n",
    "\n",
    "    p_x = 0.8*(1-np.exp(-beta*abs(wind_dir[0])))\n",
    "    p_y = 0.8*(1-np.exp(-beta*abs(wind_dir[1])))\n",
    "    prob[0] = random.uniform(0.5-np.sign(wind_dir[0])*p_x, 1) #x-\n",
    "    prob[2] = random.uniform(0.5+np.sign(wind_dir[0])*p_x, 1) #x+\n",
    "    prob[1] = random.uniform(0.5-np.sign(wind_dir[1])*p_y,1) #y-\n",
    "    prob[3] = random.uniform(0.5+np.sign(wind_dir[1])*p_y,1) #y+\n",
    "    return prob"
   ]
  },
  {
   "cell_type": "code",
   "execution_count": 4,
   "id": "7a6d4c4f-f577-4d08-86f8-547734b6fc07",
   "metadata": {},
   "outputs": [],
   "source": [
    "def if_burning_around(M,i,j,wind_dir): #simplest\n",
    "    tmp = 0\n",
    "    m = np.size(M,0) #size\n",
    "    n = np.size(M,1)\n",
    "    prob = burning_prob(wind_dir)\n",
    "    tol = 0.95\n",
    "\n",
    "    if(i!=0 and M[i-1,j]==3 and prob[3]>tol): \n",
    "        tmp = 1 \n",
    "    elif(j!=0 and M[i,j-1]==3 and prob[0]>tol): tmp = 1\n",
    "    elif(i!=(m-1) and M[i+1,j]==3 and prob[1]>tol): tmp = 1\n",
    "    elif(j!=(n-1) and M[i,j+1]==3 and prob[2]>tol): tmp = 1\n",
    "\n",
    "    if(tmp==1): return True\n",
    "    else: return False"
   ]
  },
  {
   "cell_type": "code",
   "execution_count": 5,
   "id": "100d4b7a-1c74-4779-bd82-da881549d972",
   "metadata": {},
   "outputs": [],
   "source": [
    "def update(M,count_down,density,burning_time = 10,growing_time = 50,wind_dir=[0,0]):\n",
    "    m = np.size(M,0) #size\n",
    "    n = np.size(M,1)\n",
    "    M_copy = np.zeros([m,n])\n",
    "    count_down_copy = count_down\n",
    "    for i in np.arange(m):\n",
    "        for j in np.arange(n):\n",
    "            if(count_down_copy[i,j]!=0):\n",
    "                count_down_copy[i,j] -= 1\n",
    "            if(M[i,j]==0): #flammable\n",
    "                if(if_burning_around(M,i,j,wind_dir)):\n",
    "                    M_copy[i,j] = 3\n",
    "                    count_down_copy[i,j] = burning_time*density[i,j]\n",
    "            elif(M[i,j]==3 and count_down_copy[i,j]==0):#burning\n",
    "                #burnt time reached     \n",
    "                M_copy[i,j] = 2 #burnt\n",
    "            elif(M[i,j]==3 and count_down_copy[i,j]!=0):\n",
    "                M_copy[i,j] = 3\n",
    "            elif(M[i,j]==2): #burnt\n",
    "                M_copy[i,j] = 1 #growing\n",
    "                count_down_copy[i,j] = np.random.randint(growing_time-10,growing_time+10)\n",
    "            elif(M[i,j]==1 and count_down_copy[i,j]==0): \n",
    "                M_copy[i,j] = 0 #flammable\n",
    "            elif(M[i,j]==1 and count_down_copy[i,j]!=0): \n",
    "                M_copy[i,j] = 1 \n",
    "    return M_copy,count_down_copy"
   ]
  },
  {
   "cell_type": "code",
   "execution_count": 6,
   "id": "4ebfbbea-d1f6-4520-ac2a-9b5ceef7330c",
   "metadata": {},
   "outputs": [],
   "source": [
    "def plot_M(M,ax):\n",
    "    ax.axis('off')\n",
    "    m = np.size(M,0) #size\n",
    "    n = np.size(M,1)\n",
    "    line = []\n",
    "\n",
    "    x,y = np.meshgrid(np.arange(m),np.arange(n))\n",
    "    x = x.flatten()\n",
    "    y = y.flatten()\n",
    "    categories = M.flatten()\n",
    "\n",
    "    color_map = {0:'y',1:'g',2:'b',3:'r'}\n",
    "    colors = [color_map[cat] for cat in categories]\n",
    "    for cat in color_map:\n",
    "        mask = categories == cat\n",
    "        line.append(ax.scatter(x[mask], y[mask], c=color_map[cat], label=cat))\n",
    "    \n",
    "    return line"
   ]
  },
  {
   "cell_type": "code",
   "execution_count": 7,
   "id": "a1325ce2",
   "metadata": {},
   "outputs": [],
   "source": [
    "def plot_mesh(M):\n",
    "    m = np.size(M,0) #size\n",
    "    n = np.size(M,1)\n",
    "\n",
    "    x,y = np.meshgrid(np.arange(m),np.arange(n))\n",
    "\n",
    "    plt.pcolormesh(x, y, M)\n",
    "    plt.show()"
   ]
  },
  {
   "cell_type": "code",
   "execution_count": 8,
   "id": "010ad5b4",
   "metadata": {},
   "outputs": [],
   "source": [
    "def wind(i,N):\n",
    "    theta = np.pi/N*i\n",
    "    return [50*np.cos(theta),50*np.sin(theta)]"
   ]
  },
  {
   "cell_type": "code",
   "execution_count": 9,
   "id": "7a78e8b3",
   "metadata": {},
   "outputs": [
    {
     "data": {
      "image/png": "[encoded data removed]",
      "text/plain": [
       "<Figure size 640x480 with 1 Axes>"
      ]
     },
     "metadata": {},
     "output_type": "display_data"
    },
    {
     "name": "stderr",
     "output_type": "stream",
     "text": [
      "MovieWriter imagemagick unavailable; using Pillow instead.\n"
     ]
    },
    {
     "data": {
      "image/png": "[encoded data removed]",
      "text/plain": [
       "<Figure size 640x480 with 1 Axes>"
      ]
     },
     "metadata": {},
     "output_type": "display_data"
    }
   ],
   "source": [
    "from matplotlib.animation import ArtistAnimation\n",
    "\n",
    "n= 100\n",
    "M,count_down = start_fire(n,n)\n",
    "#density = np.random.randint(1,6,size=(m,n))\n",
    "density = np.zeros([n,n])\n",
    "for i in range(n):\n",
    "    for j in range(n):\n",
    "        density[i,j] = int(5*np.exp(-((2*i-n)/n)**2-((2*j-n)/n)**2))+1 \n",
    "plot_mesh(density)\n",
    "fig, ax = plt.subplots()\n",
    "artists = []\n",
    "N = 300\n",
    "\n",
    "for i in range(N):\n",
    "    M,count_down = update(M,count_down,density,burning_time=5)\n",
    "\n",
    "    line = plot_M(M,ax)\n",
    "    artists.append(line)\n",
    " \n",
    "anim = ArtistAnimation(fig, artists)\n",
    "anim.save('fire_density.gif', writer='imagemagick')"
   ]
  }
 ],
 "metadata": {
  "kernelspec": {
   "display_name": "base",
   "language": "python",
   "name": "python3"
  },
  "language_info": {
   "codemirror_mode": {
    "name": "ipython",
    "version": 3
   },
   "file_extension": ".py",
   "mimetype": "text/x-python",
   "name": "python",
   "nbconvert_exporter": "python",
   "pygments_lexer": "ipython3",
   "version": "3.12.2"
  }
 },
 "nbformat": 4,
 "nbformat_minor": 5
}
