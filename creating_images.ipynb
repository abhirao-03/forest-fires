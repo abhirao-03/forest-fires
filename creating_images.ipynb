{
 "cells": [
  {
   "cell_type": "code",
   "execution_count": 6,
   "metadata": {},
   "outputs": [],
   "source": [
    "import numpy as np\n",
    "import matplotlib.pyplot as plt\n",
    "from matplotlib.colors import ListedColormap, BoundaryNorm"
   ]
  },
  {
   "cell_type": "code",
   "execution_count": 7,
   "metadata": {},
   "outputs": [],
   "source": [
    "images = np.load('output.npy')\n",
    "\n",
    "\n",
    "cmap = ListedColormap([ 'blue', 'darkgreen', 'darkseagreen', 'grey', 'red', 'thistle'])\n",
    "boundaries = [-1.1, -0.5, 0.5, 1.1, 2.1, 3.1, 4.1]  # Boundaries to separate the color intervals\n",
    "norm = BoundaryNorm(boundaries, cmap.N)  # Use norm to map boundaries to cmap indices\n",
    "\n"
   ]
  },
  {
   "cell_type": "code",
   "execution_count": null,
   "metadata": {},
   "outputs": [],
   "source": [
    "plt.imsave('imaging/plotting/first.png', images[0], cmap=cmap)\n",
    "plt.imsave('imaging/plotting/second.png', images[int(len(images) / 4)], cmap=cmap)\n",
    "plt.imsave('imaging/plotting/third.png', images[int(2*len(images) / 4)], cmap=cmap)\n",
    "plt.imsave('imaging/plotting/fourth.png', images[int(3*len(images) / 4)], cmap=cmap)\n",
    "plt.imsave('imaging/plotting/fifth.png', images[-1], cmap=cmap)"
   ]
  },
  {
   "cell_type": "code",
   "execution_count": null,
   "metadata": {},
   "outputs": [],
   "source": []
  }
 ],
 "metadata": {
  "kernelspec": {
   "display_name": "base",
   "language": "python",
   "name": "python3"
  },
  "language_info": {
   "codemirror_mode": {
    "name": "ipython",
    "version": 3
   },
   "file_extension": ".py",
   "mimetype": "text/x-python",
   "name": "python",
   "nbconvert_exporter": "python",
   "pygments_lexer": "ipython3",
   "version": "3.12.2"
  }
 },
 "nbformat": 4,
 "nbformat_minor": 2
}
