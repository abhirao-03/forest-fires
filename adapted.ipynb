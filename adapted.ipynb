{
 "cells": [
  {
   "cell_type": "code",
   "execution_count": 1,
   "metadata": {},
   "outputs": [],
   "source": [
    "import numpy as np\n",
    "import matplotlib.pyplot as plt\n",
    "from IPython.display import display, clear_output\n",
    "import matplotlib.patches as mpatches"
   ]
  },
  {
   "cell_type": "code",
   "execution_count": 16,
   "metadata": {},
   "outputs": [],
   "source": [
    "# Dictionary allows us to easily just type our value and get the state rather than remembering the index value\n",
    "\n",
    "state_conversion = {\n",
    "    'flammable': 0,\n",
    "    'growing': 1,\n",
    "    'burnt': 2,\n",
    "    'burning': 3,\n",
    "}"
   ]
  },
  {
   "cell_type": "code",
   "execution_count": 18,
   "metadata": {},
   "outputs": [],
   "source": [
    "def plot_board(board):\n",
    "    display_board = np.zeros((board.shape[1], board.shape[2], 3))  # RGB for color\n",
    "\n",
    "    # Define color mappings\n",
    "    flammable_color = [0, 1, 0]  # Green\n",
    "    growing_color = [0, 0, 1]    # Blue\n",
    "    burnt_color = [0, 0, 0]      # Black\n",
    "    burning_color = [1, 0, 0]    # Red\n",
    "\n",
    "    # Apply colors based on cell states\n",
    "    display_board[board[state_conversion['flammable']] == 1] = flammable_color\n",
    "    display_board[board[state_conversion['growing']] == 1] = growing_color\n",
    "    display_board[board[state_conversion['burnt']] == 1] = burnt_color\n",
    "    display_board[board[state_conversion['burning']] == 1] = burning_color\n",
    "\n",
    "    plt.imshow(display_board)\n",
    "    plt.axis('off')  # Hide axes for better visual\n",
    "    # Legend\n",
    "\n",
    "    flammable_patch = mpatches.Patch(color=flammable_color, label='Flammable')\n",
    "    growing_patch = mpatches.Patch(color=growing_color, label='Growing')\n",
    "    burnt_patch = mpatches.Patch(color=burnt_color, label='Burnt')\n",
    "    burning_patch = mpatches.Patch(color=burning_color, label='Burning')\n",
    "\n",
    "    plt.legend(handles=[flammable_patch, growing_patch, burnt_patch, burning_patch], \n",
    "               loc=\"upper right\", title=\"Cell States\")\n",
    "    plt.show()"
   ]
  },
  {
   "cell_type": "code",
   "execution_count": 19,
   "metadata": {},
   "outputs": [],
   "source": [
    "def get_cell(board: np.array, state: str, row: int, col: int) -> np.array:\n",
    "    cell_state = state_conversion[state]\n",
    "    \n",
    "    return board[cell_state][row % board.shape[1]][col % board.shape[2]]\n",
    "\n",
    "def set_cell(board, state, row, col, value):\n",
    "    cell_state = state_conversion[state]\n",
    "\n",
    "    board[cell_state][row % board.shape[1]][col % board.shape[2]] = value\n",
    "    return board\n",
    "\n",
    "def is_flammable(board, row, col):\n",
    "    return board[0][row][col]\n",
    "\n",
    "def is_growing(board, row, col):\n",
    "    return board[1][row][col]\n",
    "\n",
    "def is_burnt(board, row, col):\n",
    "    return board[2][row][col]\n",
    "\n",
    "def is_burning(board, row, col):\n",
    "    return board[3][row][col]"
   ]
  },
  {
   "cell_type": "code",
   "execution_count": 20,
   "metadata": {},
   "outputs": [],
   "source": [
    "def has_burning_neighbor(board, row, col):\n",
    "    for i in range(-1, 2):         # Checking surrounding rows\n",
    "        for j in range(-1, 2):     # Checking surrounding columns\n",
    "            if i == 0 and j == 0:  # Skip the cell itself\n",
    "                continue\n",
    "            # Check bounds to ensure we don’t go out of bounds\n",
    "            neighbor_row = (row + i) % board.shape[1]\n",
    "            neighbor_col = (col + j) % board.shape[2]\n",
    "            if is_burning(board, neighbor_row, neighbor_col):\n",
    "                return True\n",
    "    return False"
   ]
  },
  {
   "cell_type": "code",
   "execution_count": null,
   "metadata": {},
   "outputs": [],
   "source": [
    "def start_fire(board_size, p):\n",
    "    random_cells = np.random.rand(board_size[1],board_size[2])\n",
    "    board = np.zeros(board_size[1:])\n",
    "    board[random_cells > 1-p] = 1\n",
    "    return board"
   ]
  },
  {
   "cell_type": "code",
   "execution_count": 22,
   "metadata": {},
   "outputs": [],
   "source": [
    "def step(large_board):\n",
    "    board_size = large_board.shape\n",
    "    next_board = large_board.copy()  # Use a copy to avoid modifying while iterating\n",
    "\n",
    "    for i in range(board_size[1]):\n",
    "        for j in range(board_size[2]):\n",
    "            # Rule 1: Flammable cell with at least one burning neighbor becomes burning\n",
    "            if is_flammable(large_board, row=i, col=j) and has_burning_neighbor(large_board, row=i, col=j):\n",
    "                next_board = set_cell(next_board, state='flammable', row=i, col=j, value=0)\n",
    "                next_board = set_cell(next_board, state='burning', row=i, col=j, value=1)\n",
    "\n",
    "            # Rule 2: Burning cell becomes burnt\n",
    "            if is_burning(large_board, row=i, col=j):\n",
    "                next_board = set_cell(next_board, state='burning', row=i, col=j, value=0)\n",
    "                next_board = set_cell(next_board, state='burnt', row=i, col=j, value=1)\n",
    "\n",
    "            # Rule 3: Burnt cell becomes growing\n",
    "            if is_burnt(large_board, row=i, col=j):\n",
    "                next_board = set_cell(next_board, state='burnt', row=i, col=j, value=0)\n",
    "                next_board = set_cell(next_board, state='growing', row=i, col=j, value=1)\n",
    "\n",
    "            # Rule 4: Growing cell becomes flammable\n",
    "            if is_growing(large_board, row=i, col=j):\n",
    "                next_board = set_cell(next_board, state='growing', row=i, col=j, value=0)\n",
    "                next_board = set_cell(next_board, state='flammable', row=i, col=j, value=1)\n",
    "\n",
    "    return next_board"
   ]
  },
  {
   "cell_type": "code",
   "execution_count": 37,
   "metadata": {},
   "outputs": [
    {
     "data": {
      "image/png": "[encoded data removed]",
      "text/plain": [
       "<Figure size 640x480 with 1 Axes>"
      ]
     },
     "metadata": {},
     "output_type": "display_data"
    }
   ],
   "source": [
    "steps = 20\n",
    "\n",
    "# Define a 4 dimensional board tracking each aspect\n",
    "board_size = (4, 100, 100)\n",
    "large_board = np.zeros(shape=board_size)\n",
    "\n",
    "large_board[state_conversion['flammable']] = np.ones((board_size[1],board_size[2]))\n",
    "large_board[state_conversion['burning']] = start_fire(board_size, 0.001)\n",
    "\n",
    "for i in range(steps):\n",
    "    large_board = step(large_board)\n",
    "    plot_board(large_board)\n",
    "    plt.pause(0.05)  # Adjust pause duration if you want to slow down or speed up the animation\n",
    "    clear_output(wait=True)"
   ]
  }
 ],
 "metadata": {
  "kernelspec": {
   "display_name": "base",
   "language": "python",
   "name": "python3"
  },
  "language_info": {
   "codemirror_mode": {
    "name": "ipython",
    "version": 3
   },
   "file_extension": ".py",
   "mimetype": "text/x-python",
   "name": "python",
   "nbconvert_exporter": "python",
   "pygments_lexer": "ipython3",
   "version": "3.12.4"
  }
 },
 "nbformat": 4,
 "nbformat_minor": 2
}
