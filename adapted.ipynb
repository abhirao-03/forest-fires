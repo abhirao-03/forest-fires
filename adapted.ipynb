{
 "cells": [
  {
   "cell_type": "code",
   "execution_count": 65,
   "metadata": {},
   "outputs": [],
   "source": [
    "import numpy as np\n",
    "import matplotlib.pyplot as plt\n",
    "from IPython.display import display, clear_output"
   ]
  },
  {
   "cell_type": "code",
   "execution_count": 66,
   "metadata": {},
   "outputs": [],
   "source": [
    "# Dictionary allows us to easily just type our value and get the state rather than remembering the index value\n",
    "\n",
    "state_conversion = {\n",
    "    'flammable': 0,\n",
    "    'growing': 1,\n",
    "    'burnt': 2,\n",
    "    'burning': 3,\n",
    "}"
   ]
  },
  {
   "cell_type": "code",
   "execution_count": 67,
   "metadata": {},
   "outputs": [],
   "source": [
    "# Define a 4 dimensional board tracking each aspect\n",
    "board_size = (4, 20, 20)\n",
    "large_board = np.zeros(shape=board_size)"
   ]
  },
  {
   "cell_type": "code",
   "execution_count": 68,
   "metadata": {},
   "outputs": [],
   "source": [
    "# plots the board by summing up all existing values and using Reds to showcase them.\n",
    "def plot_board(board):\n",
    "    img = plt.imshow(sum(board),cmap='Reds')\n",
    "    return img"
   ]
  },
  {
   "cell_type": "code",
   "execution_count": 69,
   "metadata": {},
   "outputs": [],
   "source": [
    "def get_cell(board: np.array, state: str, row: int, col: int) -> np.array:\n",
    "    cell_state = state_conversion[state]\n",
    "    \n",
    "    return board[cell_state][row % board.shape[1]][col % board.shape[2]]\n",
    "\n",
    "def set_cell(board, state, row, col, value):\n",
    "    cell_state = state_conversion[state]\n",
    "\n",
    "    board[cell_state][row % board.shape[1]][col % board.shape[2]] = value\n",
    "    return board\n",
    "\n",
    "def is_flammable(board, row, col):\n",
    "    return board[0][row][col]\n",
    "\n",
    "def is_growing(board, row, col):\n",
    "    return board[1][row][col]\n",
    "\n",
    "def is_burnt(board, row, col):\n",
    "    return board[2][row][col]\n",
    "\n",
    "def is_burning(board, row, col):\n",
    "    return board[3][row][col]"
   ]
  },
  {
   "cell_type": "code",
   "execution_count": 70,
   "metadata": {},
   "outputs": [],
   "source": [
    "# fire spreading criteria:\n",
    "\n",
    "def start_fire(board_size, p):\n",
    "    random_cells = np.random.rand(board_size[1],board_size[2])\n",
    "    board = np.zeros(board_size[1:])\n",
    "    board[random_cells > 1-p] = 1\n",
    "    return board\n",
    "\n",
    "large_board[state_conversion['burning']] = start_fire(board_size, 0.02)\n"
   ]
  },
  {
   "cell_type": "code",
   "execution_count": 71,
   "metadata": {},
   "outputs": [
    {
     "data": {
      "text/plain": [
       "<matplotlib.image.AxesImage at 0x2eec082eba0>"
      ]
     },
     "execution_count": 71,
     "metadata": {},
     "output_type": "execute_result"
    },
    {
     "data": {
      "image/png": "[encoded data removed]",
      "text/plain": [
       "<Figure size 640x480 with 1 Axes>"
      ]
     },
     "metadata": {},
     "output_type": "display_data"
    }
   ],
   "source": [
    "plot_board(large_board)"
   ]
  },
  {
   "cell_type": "code",
   "execution_count": null,
   "metadata": {},
   "outputs": [],
   "source": [
    "def step(large_board):\n",
    "    board_size = large_board.shape\n",
    "\n",
    "    for i in range(board_size[1]):\n",
    "        for j in range(board_size[2]):\n",
    "            if is_burning(large_board, row=i, col=j):\n",
    "                large_board = set_cell(large_board, state='burning', row=i, col=j, value=0)\n",
    "                large_board = set_cell(large_board, state='burnt', row=i, col=j, value=1)\n",
    "            \n",
    "            if is_burnt(large_board, row=i, col=j):\n",
    "                large_board = set_cell(large_board, state='burnt', row=i, col=j, value=0)\n",
    "                large_board = set_cell(large_board, state='growing', row=i, col=j, value=1)\n",
    "            \n",
    "            if is_growing(large_board, row=i, col=j):\n",
    "                large_board = set_cell(large_board, state='growing', row=i, col=j, value=0)\n",
    "                large_board = set_cell(large_board, state='flammable', row=i, col=j, value=1)\n",
    "\n",
    "    return large_board"
   ]
  },
  {
   "cell_type": "code",
   "execution_count": 83,
   "metadata": {},
   "outputs": [],
   "source": [
    "large_board = step(large_board)"
   ]
  },
  {
   "cell_type": "code",
   "execution_count": 84,
   "metadata": {},
   "outputs": [
    {
     "data": {
      "text/plain": [
       "<matplotlib.image.AxesImage at 0x2eec0749850>"
      ]
     },
     "execution_count": 84,
     "metadata": {},
     "output_type": "execute_result"
    },
    {
     "data": {
      "image/png": "[encoded data removed]",
      "text/plain": [
       "<Figure size 640x480 with 1 Axes>"
      ]
     },
     "metadata": {},
     "output_type": "display_data"
    }
   ],
   "source": [
    "plot_board(large_board)"
   ]
  }
 ],
 "metadata": {
  "kernelspec": {
   "display_name": "base",
   "language": "python",
   "name": "python3"
  },
  "language_info": {
   "codemirror_mode": {
    "name": "ipython",
    "version": 3
   },
   "file_extension": ".py",
   "mimetype": "text/x-python",
   "name": "python",
   "nbconvert_exporter": "python",
   "pygments_lexer": "ipython3",
   "version": "3.12.4"
  }
 },
 "nbformat": 4,
 "nbformat_minor": 2
}
