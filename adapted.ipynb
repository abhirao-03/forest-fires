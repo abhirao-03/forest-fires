{
 "cells": [
  {
   "cell_type": "code",
   "execution_count": 13,
   "metadata": {},
   "outputs": [],
   "source": [
    "import numpy as np\n",
    "import matplotlib.pyplot as plt"
   ]
  },
  {
   "cell_type": "code",
   "execution_count": 14,
   "metadata": {},
   "outputs": [],
   "source": [
    "large_board = np.zeros(shape=(4, 20, 20))\n",
    "\n",
    "# 0 - flammable\n",
    "# 1 - growing\n",
    "# 2 - burnt\n",
    "# 3 - burning"
   ]
  },
  {
   "cell_type": "code",
   "execution_count": 15,
   "metadata": {},
   "outputs": [],
   "source": [
    "def plot_board(board):\n",
    "    ''' \n",
    "    Plot a board with white alive and black dead\n",
    "    '''\n",
    "    img = plt.imshow(sum(board),cmap='Reds')\n",
    "    return img"
   ]
  },
  {
   "cell_type": "code",
   "execution_count": 16,
   "metadata": {},
   "outputs": [],
   "source": [
    "def get_cell(board, state, row, col, value):\n",
    "    return board[state][row % board.shape[1]][col % board.shape[2]]\n",
    "\n",
    "def set_cell(board, state, row, col, value):\n",
    "    board[state][row % board.shape[1]][col % board.shape[2]] = value\n",
    "    return board\n",
    "\n",
    "def is_flammable(board, row, col):\n",
    "    return board[0][row][col]\n",
    "\n",
    "def is_growing(board, row, col):\n",
    "    return board[1][row][col]\n",
    "\n",
    "def is_burnt(board, row, col):\n",
    "    return board[2][row][col]\n",
    "\n",
    "def is_burning(board, row, col):\n",
    "    return board[3][row][col]"
   ]
  },
  {
   "cell_type": "code",
   "execution_count": null,
   "metadata": {},
   "outputs": [],
   "source": []
  }
 ],
 "metadata": {
  "kernelspec": {
   "display_name": "base",
   "language": "python",
   "name": "python3"
  },
  "language_info": {
   "codemirror_mode": {
    "name": "ipython",
    "version": 3
   },
   "file_extension": ".py",
   "mimetype": "text/x-python",
   "name": "python",
   "nbconvert_exporter": "python",
   "pygments_lexer": "ipython3",
   "version": "3.12.2"
  }
 },
 "nbformat": 4,
 "nbformat_minor": 2
}
